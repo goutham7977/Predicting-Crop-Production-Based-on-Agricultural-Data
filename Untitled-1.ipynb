{
 "cells": [
  {
   "cell_type": "code",
   "execution_count": 4,
   "metadata": {},
   "outputs": [
    {
     "name": "stderr",
     "output_type": "stream",
     "text": [
      "<>:3: SyntaxWarning: invalid escape sequence '\\P'\n",
      "<>:3: SyntaxWarning: invalid escape sequence '\\P'\n",
      "C:\\Users\\Gowtham\\AppData\\Local\\Temp\\ipykernel_8320\\2750999703.py:3: SyntaxWarning: invalid escape sequence '\\P'\n",
      "  df = pd.read_csv(\"D:\\Project_3\\FAOSTAT_data - FAOSTAT_data_en_12-29-2024.csv\")\n"
     ]
    },
    {
     "name": "stdout",
     "output_type": "stream",
     "text": [
      "       Domain Code                        Domain  Area Code (M49)  \\\n",
      "0              QCL  Crops and livestock products                4   \n",
      "1              QCL  Crops and livestock products                4   \n",
      "2              QCL  Crops and livestock products                4   \n",
      "3              QCL  Crops and livestock products                4   \n",
      "4              QCL  Crops and livestock products                4   \n",
      "...            ...                           ...              ...   \n",
      "224642         QCL  Crops and livestock products              716   \n",
      "224643         QCL  Crops and livestock products              716   \n",
      "224644         QCL  Crops and livestock products              716   \n",
      "224645         QCL  Crops and livestock products              716   \n",
      "224646         QCL  Crops and livestock products              716   \n",
      "\n",
      "               Area  Element Code         Element Item Code (CPC)  \\\n",
      "0       Afghanistan          5312  Area harvested            1371   \n",
      "1       Afghanistan          5412           Yield            1371   \n",
      "2       Afghanistan          5510      Production            1371   \n",
      "3       Afghanistan          5312  Area harvested            1371   \n",
      "4       Afghanistan          5412           Yield            1371   \n",
      "...             ...           ...             ...             ...   \n",
      "224642     Zimbabwe          5510      Production        22221.01   \n",
      "224643     Zimbabwe          5510      Production        22221.01   \n",
      "224644     Zimbabwe          5510      Production        22221.01   \n",
      "224645     Zimbabwe          5510      Production        22221.01   \n",
      "224646     Zimbabwe          5510      Production        24212.02   \n",
      "\n",
      "                          Item  Year Code  Year   Unit     Value Flag  \\\n",
      "0            Almonds, in shell       2019  2019     ha  29203.00    A   \n",
      "1            Almonds, in shell       2019  2019  kg/ha   1308.30    A   \n",
      "2            Almonds, in shell       2019  2019      t  38205.00    A   \n",
      "3            Almonds, in shell       2020  2020     ha  22134.00    A   \n",
      "4            Almonds, in shell       2020  2020  kg/ha   1775.90    A   \n",
      "...                        ...        ...   ...    ...       ...  ...   \n",
      "224642  Whole milk, evaporated       2019  2019      t   5010.21    I   \n",
      "224643  Whole milk, evaporated       2020  2020      t   4795.70    I   \n",
      "224644  Whole milk, evaporated       2021  2021      t   4921.05    I   \n",
      "224645  Whole milk, evaporated       2022  2022      t   4966.37    I   \n",
      "224646                    Wine       2019  2019      t       NaN    A   \n",
      "\n",
      "       Flag Description Note  \n",
      "0       Official figure  NaN  \n",
      "1       Official figure  NaN  \n",
      "2       Official figure  NaN  \n",
      "3       Official figure  NaN  \n",
      "4       Official figure  NaN  \n",
      "...                 ...  ...  \n",
      "224642    Imputed value  NaN  \n",
      "224643    Imputed value  NaN  \n",
      "224644    Imputed value  NaN  \n",
      "224645    Imputed value  NaN  \n",
      "224646  Official figure  NaN  \n",
      "\n",
      "[224647 rows x 15 columns]\n",
      "  Domain Code                        Domain  Area Code (M49)         Area  \\\n",
      "0         QCL  Crops and livestock products                4  Afghanistan   \n",
      "1         QCL  Crops and livestock products                4  Afghanistan   \n",
      "2         QCL  Crops and livestock products                4  Afghanistan   \n",
      "3         QCL  Crops and livestock products                4  Afghanistan   \n",
      "4         QCL  Crops and livestock products                4  Afghanistan   \n",
      "\n",
      "   Element Code         Element Item Code (CPC)               Item  Year Code  \\\n",
      "0          5312  Area harvested            1371  Almonds, in shell       2019   \n",
      "1          5412           Yield            1371  Almonds, in shell       2019   \n",
      "2          5510      Production            1371  Almonds, in shell       2019   \n",
      "3          5312  Area harvested            1371  Almonds, in shell       2020   \n",
      "4          5412           Yield            1371  Almonds, in shell       2020   \n",
      "\n",
      "   Year   Unit    Value Flag Flag Description Note  \n",
      "0  2019     ha  29203.0    A  Official figure  NaN  \n",
      "1  2019  kg/ha   1308.3    A  Official figure  NaN  \n",
      "2  2019      t  38205.0    A  Official figure  NaN  \n",
      "3  2020     ha  22134.0    A  Official figure  NaN  \n",
      "4  2020  kg/ha   1775.9    A  Official figure  NaN  \n"
     ]
    }
   ],
   "source": [
    "import pandas as pd\n",
    "\n",
    "df = pd.read_csv(\"D:\\Project_3\\FAOSTAT_data - FAOSTAT_data_en_12-29-2024.csv\")  \n",
    "print(df)\n",
    "print(df.head())  \n"
   ]
  },
  {
   "cell_type": "code",
   "execution_count": 5,
   "metadata": {},
   "outputs": [
    {
     "name": "stdout",
     "output_type": "stream",
     "text": [
      "<class 'pandas.core.frame.DataFrame'>\n",
      "RangeIndex: 224647 entries, 0 to 224646\n",
      "Data columns (total 15 columns):\n",
      " #   Column            Non-Null Count   Dtype  \n",
      "---  ------            --------------   -----  \n",
      " 0   Domain Code       224647 non-null  object \n",
      " 1   Domain            224647 non-null  object \n",
      " 2   Area Code (M49)   224647 non-null  int64  \n",
      " 3   Area              224647 non-null  object \n",
      " 4   Element Code      224647 non-null  int64  \n",
      " 5   Element           224647 non-null  object \n",
      " 6   Item Code (CPC)   224642 non-null  object \n",
      " 7   Item              224647 non-null  object \n",
      " 8   Year Code         224647 non-null  int64  \n",
      " 9   Year              224647 non-null  int64  \n",
      " 10  Unit              224645 non-null  object \n",
      " 11  Value             218130 non-null  float64\n",
      " 12  Flag              224643 non-null  object \n",
      " 13  Flag Description  224634 non-null  object \n",
      " 14  Note              5098 non-null    object \n",
      "dtypes: float64(1), int64(4), object(10)\n",
      "memory usage: 25.7+ MB\n"
     ]
    }
   ],
   "source": [
    "df.info()"
   ]
  },
  {
   "cell_type": "code",
   "execution_count": 6,
   "metadata": {},
   "outputs": [
    {
     "data": {
      "text/plain": [
       "Domain Code              0\n",
       "Domain                   0\n",
       "Area Code (M49)          0\n",
       "Area                     0\n",
       "Element Code             0\n",
       "Element                  0\n",
       "Item Code (CPC)          5\n",
       "Item                     0\n",
       "Year Code                0\n",
       "Year                     0\n",
       "Unit                     2\n",
       "Value                 6517\n",
       "Flag                     4\n",
       "Flag Description        13\n",
       "Note                219549\n",
       "dtype: int64"
      ]
     },
     "execution_count": 6,
     "metadata": {},
     "output_type": "execute_result"
    }
   ],
   "source": [
    "df.isnull().sum()"
   ]
  },
  {
   "cell_type": "code",
   "execution_count": 7,
   "metadata": {},
   "outputs": [],
   "source": [
    "df.drop(columns=[\"Note\",\"Year Code\",\"Flag\",\"Flag Description\",\"Area Code (M49)\",\"Domain Code\",\"Item Code (CPC)\"], inplace=True)"
   ]
  },
  {
   "cell_type": "code",
   "execution_count": 8,
   "metadata": {},
   "outputs": [
    {
     "data": {
      "text/plain": [
       "Domain             0\n",
       "Area               0\n",
       "Element Code       0\n",
       "Element            0\n",
       "Item               0\n",
       "Year               0\n",
       "Unit               2\n",
       "Value           6517\n",
       "dtype: int64"
      ]
     },
     "execution_count": 8,
     "metadata": {},
     "output_type": "execute_result"
    }
   ],
   "source": [
    "df.isnull().sum()"
   ]
  },
  {
   "cell_type": "code",
   "execution_count": 9,
   "metadata": {},
   "outputs": [
    {
     "name": "stderr",
     "output_type": "stream",
     "text": [
      "C:\\Users\\Gowtham\\AppData\\Local\\Temp\\ipykernel_8320\\542180953.py:1: FutureWarning: A value is trying to be set on a copy of a DataFrame or Series through chained assignment using an inplace method.\n",
      "The behavior will change in pandas 3.0. This inplace method will never work because the intermediate object on which we are setting values always behaves as a copy.\n",
      "\n",
      "For example, when doing 'df[col].method(value, inplace=True)', try using 'df.method({col: value}, inplace=True)' or df[col] = df[col].method(value) instead, to perform the operation inplace on the original object.\n",
      "\n",
      "\n",
      "  df[\"Unit\"].fillna(df[\"Unit\"].mode()[0], inplace=True)\n",
      "C:\\Users\\Gowtham\\AppData\\Local\\Temp\\ipykernel_8320\\542180953.py:2: FutureWarning: A value is trying to be set on a copy of a DataFrame or Series through chained assignment using an inplace method.\n",
      "The behavior will change in pandas 3.0. This inplace method will never work because the intermediate object on which we are setting values always behaves as a copy.\n",
      "\n",
      "For example, when doing 'df[col].method(value, inplace=True)', try using 'df.method({col: value}, inplace=True)' or df[col] = df[col].method(value) instead, to perform the operation inplace on the original object.\n",
      "\n",
      "\n",
      "  df[\"Value\"].fillna(df[\"Value\"].mean(), inplace=True)  # Mean for numerical\n"
     ]
    }
   ],
   "source": [
    "\n",
    "df[\"Unit\"].fillna(df[\"Unit\"].mode()[0], inplace=True)\n",
    "df[\"Value\"].fillna(df[\"Value\"].mean(), inplace=True)  # Mean for numerical"
   ]
  },
  {
   "cell_type": "code",
   "execution_count": 10,
   "metadata": {},
   "outputs": [
    {
     "data": {
      "text/plain": [
       "array(['Area harvested', 'Yield', 'Production', 'Stocks',\n",
       "       'Producing Animals/Slaughtered', 'Laying', 'Yield/Carcass Weight',\n",
       "       'Milk Animals'], dtype=object)"
      ]
     },
     "execution_count": 10,
     "metadata": {},
     "output_type": "execute_result"
    }
   ],
   "source": [
    "df[\"Element\"].unique()\n"
   ]
  },
  {
   "cell_type": "code",
   "execution_count": 13,
   "metadata": {},
   "outputs": [
    {
     "name": "stdout",
     "output_type": "stream",
     "text": [
      "Index(['Domain', 'Area', 'Element Code', 'Element', 'Item', 'Year', 'Unit',\n",
      "       'Value'],\n",
      "      dtype='object')\n"
     ]
    }
   ],
   "source": [
    "print(df.columns)"
   ]
  },
  {
   "cell_type": "code",
   "execution_count": 14,
   "metadata": {},
   "outputs": [
    {
     "data": {
      "text/plain": [
       "Domain          0\n",
       "Area            0\n",
       "Element Code    0\n",
       "Element         0\n",
       "Item            0\n",
       "Year            0\n",
       "Unit            0\n",
       "Value           0\n",
       "dtype: int64"
      ]
     },
     "execution_count": 14,
     "metadata": {},
     "output_type": "execute_result"
    }
   ],
   "source": [
    "df.isnull().sum()"
   ]
  },
  {
   "cell_type": "code",
   "execution_count": 22,
   "metadata": {},
   "outputs": [
    {
     "data": {
      "text/html": [
       "<div>\n",
       "<style scoped>\n",
       "    .dataframe tbody tr th:only-of-type {\n",
       "        vertical-align: middle;\n",
       "    }\n",
       "\n",
       "    .dataframe tbody tr th {\n",
       "        vertical-align: top;\n",
       "    }\n",
       "\n",
       "    .dataframe thead th {\n",
       "        text-align: right;\n",
       "    }\n",
       "</style>\n",
       "<table border=\"1\" class=\"dataframe\">\n",
       "  <thead>\n",
       "    <tr style=\"text-align: right;\">\n",
       "      <th></th>\n",
       "      <th>Domain</th>\n",
       "      <th>Area</th>\n",
       "      <th>Element Code</th>\n",
       "      <th>Element</th>\n",
       "      <th>Item</th>\n",
       "      <th>Year</th>\n",
       "      <th>Unit</th>\n",
       "      <th>Value</th>\n",
       "    </tr>\n",
       "  </thead>\n",
       "  <tbody>\n",
       "    <tr>\n",
       "      <th>0</th>\n",
       "      <td>Crops and livestock products</td>\n",
       "      <td>Afghanistan</td>\n",
       "      <td>5312</td>\n",
       "      <td>Area harvested</td>\n",
       "      <td>Almonds, in shell</td>\n",
       "      <td>2019</td>\n",
       "      <td>ha</td>\n",
       "      <td>29203.000000</td>\n",
       "    </tr>\n",
       "    <tr>\n",
       "      <th>1</th>\n",
       "      <td>Crops and livestock products</td>\n",
       "      <td>Afghanistan</td>\n",
       "      <td>5412</td>\n",
       "      <td>Yield</td>\n",
       "      <td>Almonds, in shell</td>\n",
       "      <td>2019</td>\n",
       "      <td>kg/ha</td>\n",
       "      <td>1308.300000</td>\n",
       "    </tr>\n",
       "    <tr>\n",
       "      <th>2</th>\n",
       "      <td>Crops and livestock products</td>\n",
       "      <td>Afghanistan</td>\n",
       "      <td>5510</td>\n",
       "      <td>Production</td>\n",
       "      <td>Almonds, in shell</td>\n",
       "      <td>2019</td>\n",
       "      <td>t</td>\n",
       "      <td>38205.000000</td>\n",
       "    </tr>\n",
       "    <tr>\n",
       "      <th>3</th>\n",
       "      <td>Crops and livestock products</td>\n",
       "      <td>Afghanistan</td>\n",
       "      <td>5312</td>\n",
       "      <td>Area harvested</td>\n",
       "      <td>Almonds, in shell</td>\n",
       "      <td>2020</td>\n",
       "      <td>ha</td>\n",
       "      <td>22134.000000</td>\n",
       "    </tr>\n",
       "    <tr>\n",
       "      <th>4</th>\n",
       "      <td>Crops and livestock products</td>\n",
       "      <td>Afghanistan</td>\n",
       "      <td>5412</td>\n",
       "      <td>Yield</td>\n",
       "      <td>Almonds, in shell</td>\n",
       "      <td>2020</td>\n",
       "      <td>kg/ha</td>\n",
       "      <td>1775.900000</td>\n",
       "    </tr>\n",
       "    <tr>\n",
       "      <th>...</th>\n",
       "      <td>...</td>\n",
       "      <td>...</td>\n",
       "      <td>...</td>\n",
       "      <td>...</td>\n",
       "      <td>...</td>\n",
       "      <td>...</td>\n",
       "      <td>...</td>\n",
       "      <td>...</td>\n",
       "    </tr>\n",
       "    <tr>\n",
       "      <th>224642</th>\n",
       "      <td>Crops and livestock products</td>\n",
       "      <td>Zimbabwe</td>\n",
       "      <td>5510</td>\n",
       "      <td>Production</td>\n",
       "      <td>Whole milk, evaporated</td>\n",
       "      <td>2019</td>\n",
       "      <td>t</td>\n",
       "      <td>5010.210000</td>\n",
       "    </tr>\n",
       "    <tr>\n",
       "      <th>224643</th>\n",
       "      <td>Crops and livestock products</td>\n",
       "      <td>Zimbabwe</td>\n",
       "      <td>5510</td>\n",
       "      <td>Production</td>\n",
       "      <td>Whole milk, evaporated</td>\n",
       "      <td>2020</td>\n",
       "      <td>t</td>\n",
       "      <td>4795.700000</td>\n",
       "    </tr>\n",
       "    <tr>\n",
       "      <th>224644</th>\n",
       "      <td>Crops and livestock products</td>\n",
       "      <td>Zimbabwe</td>\n",
       "      <td>5510</td>\n",
       "      <td>Production</td>\n",
       "      <td>Whole milk, evaporated</td>\n",
       "      <td>2021</td>\n",
       "      <td>t</td>\n",
       "      <td>4921.050000</td>\n",
       "    </tr>\n",
       "    <tr>\n",
       "      <th>224645</th>\n",
       "      <td>Crops and livestock products</td>\n",
       "      <td>Zimbabwe</td>\n",
       "      <td>5510</td>\n",
       "      <td>Production</td>\n",
       "      <td>Whole milk, evaporated</td>\n",
       "      <td>2022</td>\n",
       "      <td>t</td>\n",
       "      <td>4966.370000</td>\n",
       "    </tr>\n",
       "    <tr>\n",
       "      <th>224646</th>\n",
       "      <td>Crops and livestock products</td>\n",
       "      <td>Zimbabwe</td>\n",
       "      <td>5510</td>\n",
       "      <td>Production</td>\n",
       "      <td>Wine</td>\n",
       "      <td>2019</td>\n",
       "      <td>t</td>\n",
       "      <td>898484.835892</td>\n",
       "    </tr>\n",
       "  </tbody>\n",
       "</table>\n",
       "<p>224647 rows × 8 columns</p>\n",
       "</div>"
      ],
      "text/plain": [
       "                              Domain         Area  Element Code  \\\n",
       "0       Crops and livestock products  Afghanistan          5312   \n",
       "1       Crops and livestock products  Afghanistan          5412   \n",
       "2       Crops and livestock products  Afghanistan          5510   \n",
       "3       Crops and livestock products  Afghanistan          5312   \n",
       "4       Crops and livestock products  Afghanistan          5412   \n",
       "...                              ...          ...           ...   \n",
       "224642  Crops and livestock products     Zimbabwe          5510   \n",
       "224643  Crops and livestock products     Zimbabwe          5510   \n",
       "224644  Crops and livestock products     Zimbabwe          5510   \n",
       "224645  Crops and livestock products     Zimbabwe          5510   \n",
       "224646  Crops and livestock products     Zimbabwe          5510   \n",
       "\n",
       "               Element                    Item  Year   Unit          Value  \n",
       "0       Area harvested       Almonds, in shell  2019     ha   29203.000000  \n",
       "1                Yield       Almonds, in shell  2019  kg/ha    1308.300000  \n",
       "2           Production       Almonds, in shell  2019      t   38205.000000  \n",
       "3       Area harvested       Almonds, in shell  2020     ha   22134.000000  \n",
       "4                Yield       Almonds, in shell  2020  kg/ha    1775.900000  \n",
       "...                ...                     ...   ...    ...            ...  \n",
       "224642      Production  Whole milk, evaporated  2019      t    5010.210000  \n",
       "224643      Production  Whole milk, evaporated  2020      t    4795.700000  \n",
       "224644      Production  Whole milk, evaporated  2021      t    4921.050000  \n",
       "224645      Production  Whole milk, evaporated  2022      t    4966.370000  \n",
       "224646      Production                    Wine  2019      t  898484.835892  \n",
       "\n",
       "[224647 rows x 8 columns]"
      ]
     },
     "execution_count": 22,
     "metadata": {},
     "output_type": "execute_result"
    }
   ],
   "source": [
    "df.drop_duplicates()"
   ]
  },
  {
   "cell_type": "code",
   "execution_count": 25,
   "metadata": {},
   "outputs": [
    {
     "name": "stdout",
     "output_type": "stream",
     "text": [
      "0\n"
     ]
    }
   ],
   "source": [
    "print(df.duplicated().sum())  # Shows the number of duplicate rows\n"
   ]
  },
  {
   "cell_type": "code",
   "execution_count": 26,
   "metadata": {},
   "outputs": [],
   "source": [
    "df.columns = df.columns.str.strip()  # Removes leading/trailing spaces\n"
   ]
  },
  {
   "cell_type": "code",
   "execution_count": 32,
   "metadata": {},
   "outputs": [],
   "source": [
    "df.rename(columns={\"Area Harvested\": \"Area harvested\"}, inplace=True)\n"
   ]
  },
  {
   "cell_type": "code",
   "execution_count": 35,
   "metadata": {},
   "outputs": [],
   "source": [
    "df.to_csv(\"FAOSTAT_CLEANED.csv\",index=False)"
   ]
  },
  {
   "cell_type": "code",
   "execution_count": 39,
   "metadata": {},
   "outputs": [
    {
     "data": {
      "text/plain": [
       "Domain          0\n",
       "Area            0\n",
       "Element Code    0\n",
       "Element         0\n",
       "Item            0\n",
       "Year            0\n",
       "Unit            0\n",
       "Value           0\n",
       "dtype: int64"
      ]
     },
     "execution_count": 39,
     "metadata": {},
     "output_type": "execute_result"
    }
   ],
   "source": [
    "df.isnull().sum()"
   ]
  },
  {
   "cell_type": "code",
   "execution_count": 52,
   "metadata": {},
   "outputs": [
    {
     "name": "stderr",
     "output_type": "stream",
     "text": [
      "<>:4: SyntaxWarning: invalid escape sequence '\\P'\n",
      "<>:4: SyntaxWarning: invalid escape sequence '\\P'\n",
      "C:\\Users\\Gowtham\\AppData\\Local\\Temp\\ipykernel_8320\\1900905714.py:4: SyntaxWarning: invalid escape sequence '\\P'\n",
      "  file_path = \"D:\\Project_3\\FAOSTAT_CLEANED.csv\"\n"
     ]
    },
    {
     "data": {
      "text/html": [
       "<div>\n",
       "<style scoped>\n",
       "    .dataframe tbody tr th:only-of-type {\n",
       "        vertical-align: middle;\n",
       "    }\n",
       "\n",
       "    .dataframe tbody tr th {\n",
       "        vertical-align: top;\n",
       "    }\n",
       "\n",
       "    .dataframe thead th {\n",
       "        text-align: right;\n",
       "    }\n",
       "</style>\n",
       "<table border=\"1\" class=\"dataframe\">\n",
       "  <thead>\n",
       "    <tr style=\"text-align: right;\">\n",
       "      <th></th>\n",
       "      <th>Area</th>\n",
       "      <th>Year</th>\n",
       "      <th>Item</th>\n",
       "      <th>Area harvested</th>\n",
       "      <th>Laying</th>\n",
       "      <th>Milk Animals</th>\n",
       "      <th>Producing Animals/Slaughtered</th>\n",
       "      <th>Production</th>\n",
       "      <th>Stocks</th>\n",
       "      <th>Yield</th>\n",
       "      <th>Yield/Carcass Weight</th>\n",
       "    </tr>\n",
       "  </thead>\n",
       "  <tbody>\n",
       "    <tr>\n",
       "      <th>0</th>\n",
       "      <td>Afghanistan</td>\n",
       "      <td>2019</td>\n",
       "      <td>Almonds, in shell</td>\n",
       "      <td>29203.0</td>\n",
       "      <td>NaN</td>\n",
       "      <td>NaN</td>\n",
       "      <td>NaN</td>\n",
       "      <td>38205.00</td>\n",
       "      <td>NaN</td>\n",
       "      <td>1308.3</td>\n",
       "      <td>NaN</td>\n",
       "    </tr>\n",
       "    <tr>\n",
       "      <th>1</th>\n",
       "      <td>Afghanistan</td>\n",
       "      <td>2019</td>\n",
       "      <td>Anise, badian, coriander, cumin, caraway, fenn...</td>\n",
       "      <td>25293.0</td>\n",
       "      <td>NaN</td>\n",
       "      <td>NaN</td>\n",
       "      <td>NaN</td>\n",
       "      <td>17807.76</td>\n",
       "      <td>NaN</td>\n",
       "      <td>704.1</td>\n",
       "      <td>NaN</td>\n",
       "    </tr>\n",
       "    <tr>\n",
       "      <th>2</th>\n",
       "      <td>Afghanistan</td>\n",
       "      <td>2019</td>\n",
       "      <td>Apples</td>\n",
       "      <td>27559.0</td>\n",
       "      <td>NaN</td>\n",
       "      <td>NaN</td>\n",
       "      <td>NaN</td>\n",
       "      <td>250324.00</td>\n",
       "      <td>NaN</td>\n",
       "      <td>9083.2</td>\n",
       "      <td>NaN</td>\n",
       "    </tr>\n",
       "    <tr>\n",
       "      <th>3</th>\n",
       "      <td>Afghanistan</td>\n",
       "      <td>2019</td>\n",
       "      <td>Apricots</td>\n",
       "      <td>17719.0</td>\n",
       "      <td>NaN</td>\n",
       "      <td>NaN</td>\n",
       "      <td>NaN</td>\n",
       "      <td>129363.00</td>\n",
       "      <td>NaN</td>\n",
       "      <td>7300.8</td>\n",
       "      <td>NaN</td>\n",
       "    </tr>\n",
       "    <tr>\n",
       "      <th>4</th>\n",
       "      <td>Afghanistan</td>\n",
       "      <td>2019</td>\n",
       "      <td>Asses</td>\n",
       "      <td>NaN</td>\n",
       "      <td>NaN</td>\n",
       "      <td>NaN</td>\n",
       "      <td>NaN</td>\n",
       "      <td>NaN</td>\n",
       "      <td>1402909.0</td>\n",
       "      <td>NaN</td>\n",
       "      <td>NaN</td>\n",
       "    </tr>\n",
       "  </tbody>\n",
       "</table>\n",
       "</div>"
      ],
      "text/plain": [
       "          Area  Year                                               Item  \\\n",
       "0  Afghanistan  2019                                  Almonds, in shell   \n",
       "1  Afghanistan  2019  Anise, badian, coriander, cumin, caraway, fenn...   \n",
       "2  Afghanistan  2019                                             Apples   \n",
       "3  Afghanistan  2019                                           Apricots   \n",
       "4  Afghanistan  2019                                              Asses   \n",
       "\n",
       "   Area harvested  Laying  Milk Animals  Producing Animals/Slaughtered  \\\n",
       "0         29203.0     NaN           NaN                            NaN   \n",
       "1         25293.0     NaN           NaN                            NaN   \n",
       "2         27559.0     NaN           NaN                            NaN   \n",
       "3         17719.0     NaN           NaN                            NaN   \n",
       "4             NaN     NaN           NaN                            NaN   \n",
       "\n",
       "   Production     Stocks   Yield  Yield/Carcass Weight  \n",
       "0    38205.00        NaN  1308.3                   NaN  \n",
       "1    17807.76        NaN   704.1                   NaN  \n",
       "2   250324.00        NaN  9083.2                   NaN  \n",
       "3   129363.00        NaN  7300.8                   NaN  \n",
       "4         NaN  1402909.0     NaN                   NaN  "
      ]
     },
     "execution_count": 52,
     "metadata": {},
     "output_type": "execute_result"
    }
   ],
   "source": [
    "import pandas as pd\n",
    "\n",
    "# Load dataset\n",
    "file_path = \"D:\\Project_3\\FAOSTAT_CLEANED.csv\"\n",
    "df = pd.read_csv(file_path)\n",
    "\n",
    "# Aggregate duplicate entries (you can change sum() to mean(), max(), etc.)\n",
    "df = df.groupby([\"Area\", \"Year\", \"Item\", \"Element\"], as_index=False)[\"Value\"].sum()\n",
    "\n",
    "# Pivot the Element column\n",
    "df_pivoted = df.pivot(index=[\"Area\", \"Year\", \"Item\"], columns=\"Element\", values=\"Value\").reset_index()\n",
    "\n",
    "# Remove column name from pivoted columns for better readability\n",
    "df_pivoted.columns.name = None\n",
    "\n",
    "# Display the transformed DataFrame\n",
    "df_pivoted.head()\n"
   ]
  },
  {
   "cell_type": "code",
   "execution_count": 60,
   "metadata": {},
   "outputs": [
    {
     "name": "stdout",
     "output_type": "stream",
     "text": [
      "Area                                 0\n",
      "Year                                 0\n",
      "Item                                 0\n",
      "Area harvested                   45616\n",
      "Laying                           94856\n",
      "Milk Animals                     93779\n",
      "Producing Animals/Slaughtered    77866\n",
      "Production                       10622\n",
      "Stocks                           87116\n",
      "Yield                            45352\n",
      "Yield/Carcass Weight             89618\n",
      "dtype: int64\n"
     ]
    }
   ],
   "source": [
    "print(df_pivoted.isnull().sum())"
   ]
  },
  {
   "cell_type": "code",
   "execution_count": 67,
   "metadata": {},
   "outputs": [],
   "source": [
    "df_pivoted.drop(columns=[\"Laying\",\"Milk Animals\",\"Producing Animals/Slaughtered\",\"Stocks\",\"Yield/Carcass Weight\"], inplace=True)"
   ]
  },
  {
   "cell_type": "code",
   "execution_count": 68,
   "metadata": {},
   "outputs": [
    {
     "name": "stdout",
     "output_type": "stream",
     "text": [
      "Area                  0\n",
      "Year                  0\n",
      "Item                  0\n",
      "Area harvested    45616\n",
      "Production        10622\n",
      "Yield             45352\n",
      "dtype: int64\n"
     ]
    }
   ],
   "source": [
    "print(df_pivoted.isnull().sum())"
   ]
  },
  {
   "cell_type": "code",
   "execution_count": 70,
   "metadata": {},
   "outputs": [],
   "source": [
    "df_pivoted_clean = df_pivoted.dropna()"
   ]
  },
  {
   "cell_type": "code",
   "execution_count": 72,
   "metadata": {},
   "outputs": [],
   "source": [
    "df_pivoted_clean.to_csv(\"D:/Project_3/FAOSTAT_TRANSFORMED_CLEANED.csv\", index=False)"
   ]
  },
  {
   "cell_type": "markdown",
   "metadata": {},
   "source": [
    "EDA"
   ]
  },
  {
   "cell_type": "code",
   "execution_count": 73,
   "metadata": {},
   "outputs": [
    {
     "name": "stdout",
     "output_type": "stream",
     "text": [
      "<class 'pandas.core.frame.DataFrame'>\n",
      "RangeIndex: 44981 entries, 0 to 44980\n",
      "Data columns (total 6 columns):\n",
      " #   Column          Non-Null Count  Dtype  \n",
      "---  ------          --------------  -----  \n",
      " 0   Area            44981 non-null  object \n",
      " 1   Year            44981 non-null  int64  \n",
      " 2   Item            44981 non-null  object \n",
      " 3   Area harvested  44981 non-null  float64\n",
      " 4   Production      44981 non-null  float64\n",
      " 5   Yield           44981 non-null  float64\n",
      "dtypes: float64(3), int64(1), object(2)\n",
      "memory usage: 2.1+ MB\n"
     ]
    },
    {
     "data": {
      "text/html": [
       "<div>\n",
       "<style scoped>\n",
       "    .dataframe tbody tr th:only-of-type {\n",
       "        vertical-align: middle;\n",
       "    }\n",
       "\n",
       "    .dataframe tbody tr th {\n",
       "        vertical-align: top;\n",
       "    }\n",
       "\n",
       "    .dataframe thead th {\n",
       "        text-align: right;\n",
       "    }\n",
       "</style>\n",
       "<table border=\"1\" class=\"dataframe\">\n",
       "  <thead>\n",
       "    <tr style=\"text-align: right;\">\n",
       "      <th></th>\n",
       "      <th>Area</th>\n",
       "      <th>Year</th>\n",
       "      <th>Item</th>\n",
       "      <th>Area harvested</th>\n",
       "      <th>Production</th>\n",
       "      <th>Yield</th>\n",
       "    </tr>\n",
       "  </thead>\n",
       "  <tbody>\n",
       "    <tr>\n",
       "      <th>0</th>\n",
       "      <td>Afghanistan</td>\n",
       "      <td>2019</td>\n",
       "      <td>Almonds, in shell</td>\n",
       "      <td>29203.0</td>\n",
       "      <td>38205.00</td>\n",
       "      <td>1308.3</td>\n",
       "    </tr>\n",
       "    <tr>\n",
       "      <th>1</th>\n",
       "      <td>Afghanistan</td>\n",
       "      <td>2019</td>\n",
       "      <td>Anise, badian, coriander, cumin, caraway, fenn...</td>\n",
       "      <td>25293.0</td>\n",
       "      <td>17807.76</td>\n",
       "      <td>704.1</td>\n",
       "    </tr>\n",
       "    <tr>\n",
       "      <th>2</th>\n",
       "      <td>Afghanistan</td>\n",
       "      <td>2019</td>\n",
       "      <td>Apples</td>\n",
       "      <td>27559.0</td>\n",
       "      <td>250324.00</td>\n",
       "      <td>9083.2</td>\n",
       "    </tr>\n",
       "    <tr>\n",
       "      <th>3</th>\n",
       "      <td>Afghanistan</td>\n",
       "      <td>2019</td>\n",
       "      <td>Apricots</td>\n",
       "      <td>17719.0</td>\n",
       "      <td>129363.00</td>\n",
       "      <td>7300.8</td>\n",
       "    </tr>\n",
       "    <tr>\n",
       "      <th>4</th>\n",
       "      <td>Afghanistan</td>\n",
       "      <td>2019</td>\n",
       "      <td>Barley</td>\n",
       "      <td>84070.0</td>\n",
       "      <td>123576.00</td>\n",
       "      <td>1469.9</td>\n",
       "    </tr>\n",
       "  </tbody>\n",
       "</table>\n",
       "</div>"
      ],
      "text/plain": [
       "          Area  Year                                               Item  \\\n",
       "0  Afghanistan  2019                                  Almonds, in shell   \n",
       "1  Afghanistan  2019  Anise, badian, coriander, cumin, caraway, fenn...   \n",
       "2  Afghanistan  2019                                             Apples   \n",
       "3  Afghanistan  2019                                           Apricots   \n",
       "4  Afghanistan  2019                                             Barley   \n",
       "\n",
       "   Area harvested  Production   Yield  \n",
       "0         29203.0    38205.00  1308.3  \n",
       "1         25293.0    17807.76   704.1  \n",
       "2         27559.0   250324.00  9083.2  \n",
       "3         17719.0   129363.00  7300.8  \n",
       "4         84070.0   123576.00  1469.9  "
      ]
     },
     "execution_count": 73,
     "metadata": {},
     "output_type": "execute_result"
    }
   ],
   "source": [
    "import pandas as pd\n",
    "\n",
    "# Load dataset\n",
    "file_path = \"D:/Project_3/FAOSTAT_TRANSFORMED_CLEANED.csv\"\n",
    "df = pd.read_csv(file_path)\n",
    "\n",
    "# Display basic info\n",
    "df.info()\n",
    "df.head()\n"
   ]
  },
  {
   "cell_type": "code",
   "execution_count": 75,
   "metadata": {},
   "outputs": [
    {
     "name": "stdout",
     "output_type": "stream",
     "text": [
      "Area              0\n",
      "Year              0\n",
      "Item              0\n",
      "Area harvested    0\n",
      "Production        0\n",
      "Yield             0\n",
      "dtype: int64\n",
      "Duplicate Rows: 0\n"
     ]
    }
   ],
   "source": [
    "\n",
    "print(df.isnull().sum())\n",
    "print(\"Duplicate Rows:\", df.duplicated().sum())\n"
   ]
  },
  {
   "cell_type": "code",
   "execution_count": 76,
   "metadata": {},
   "outputs": [
    {
     "name": "stdout",
     "output_type": "stream",
     "text": [
      "               Year  Area harvested    Production          Yield\n",
      "count  44981.000000    4.498100e+04  4.498100e+04   44981.000000\n",
      "mean    2021.005158    1.823420e+05  1.259761e+06   12583.616147\n",
      "std        1.413843    1.474952e+06  1.307828e+07   26423.339156\n",
      "min     2019.000000    0.000000e+00  0.000000e+00       0.000000\n",
      "25%     2020.000000    4.740000e+02  2.177970e+03    1873.000000\n",
      "50%     2021.000000    3.780000e+03  2.238800e+04    5892.100000\n",
      "75%     2022.000000    2.679200e+04  1.645837e+05   14781.300000\n",
      "max     2023.000000    4.783200e+07  7.825858e+08  705196.700000\n"
     ]
    }
   ],
   "source": [
    "print(df.describe())"
   ]
  },
  {
   "cell_type": "code",
   "execution_count": 77,
   "metadata": {},
   "outputs": [
    {
     "data": {
      "image/png": "[encoded data removed]",
      "text/plain": [
       "<Figure size 1000x600 with 4 Axes>"
      ]
     },
     "metadata": {},
     "output_type": "display_data"
    },
    {
     "data": {
      "image/png": "[encoded data removed]",
      "text/plain": [
       "<Figure size 1200x600 with 1 Axes>"
      ]
     },
     "metadata": {},
     "output_type": "display_data"
    }
   ],
   "source": [
    "import seaborn as sns\n",
    "import matplotlib.pyplot as plt\n",
    "\n",
    "# Histogram of key numerical columns\n",
    "df.hist(figsize=(10, 6), bins=30)\n",
    "plt.show()\n",
    "\n",
    "# Boxplot for outlier detection\n",
    "plt.figure(figsize=(12, 6))\n",
    "sns.boxplot(data=df)\n",
    "plt.xticks(rotation=45)\n",
    "plt.show()"
   ]
  },
  {
   "cell_type": "code",
   "execution_count": null,
   "metadata": {},
   "outputs": [],
   "source": []
  }
 ],
 "metadata": {
  "kernelspec": {
   "display_name": "Python 3",
   "language": "python",
   "name": "python3"
  },
  "language_info": {
   "codemirror_mode": {
    "name": "ipython",
    "version": 3
   },
   "file_extension": ".py",
   "mimetype": "text/x-python",
   "name": "python",
   "nbconvert_exporter": "python",
   "pygments_lexer": "ipython3",
   "version": "3.12.7"
  }
 },
 "nbformat": 4,
 "nbformat_minor": 2
}
